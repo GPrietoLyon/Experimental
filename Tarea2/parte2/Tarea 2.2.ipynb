{
 "cells": [
  {
   "cell_type": "code",
   "execution_count": 1,
   "metadata": {
    "collapsed": false
   },
   "outputs": [
    {
     "name": "stderr",
     "output_type": "stream",
     "text": [
      "/home/zapredfield/anaconda/lib/python2.7/site-packages/IPython/kernel/__init__.py:13: ShimWarning: The `IPython.kernel` package has been deprecated. You should import from ipykernel or jupyter_client instead.\n",
      "  \"You should import from ipykernel or jupyter_client instead.\", ShimWarning)\n"
     ]
    }
   ],
   "source": [
    "import kplr\n",
    "\n",
    "\n",
    "        #fits1=lc1[i].open()\n",
    "       # fname1=str(2305930)+'_'+str(i)+'.fits'\n",
    "    #fits1.writeto(fname1)\n",
    "     #   fits1.close()\n",
    "\n",
    "\n",
    "\n",
    "client = kplr.API()\n",
    "koi = client.koi(1274.01)"
   ]
  },
  {
   "cell_type": "code",
   "execution_count": 2,
   "metadata": {
    "collapsed": true
   },
   "outputs": [],
   "source": [
    "lcs1 = koi.get_light_curves()"
   ]
  },
  {
   "cell_type": "code",
   "execution_count": 3,
   "metadata": {
    "collapsed": true
   },
   "outputs": [],
   "source": [
    "teff=[]\n",
    "logg=[]\n",
    "feh=[]\n",
    "\n",
    "\n",
    "time1, flux1, ferr1 = [], [], []\n",
    "for lc in lcs1:\n",
    "    with lc.open() as f:\n",
    "\n",
    "        hdu_data = f[1].data\n",
    "        header=f[0].header\n",
    "        time1.append(hdu_data[\"time\"]) #obtenemos los tiempos\n",
    "        flux1.append(hdu_data[\"pdcsap_flux\"]) #flujos\n",
    "        ferr1.append(hdu_data[\"pdcsap_flux_err\"]) #errores de flujo\n",
    "teff.append(header[\"TEFF\"]) #cargamos la tempertaura efectiva \n",
    "logg.append(header[\"LOGG\"])#cargamos la log(g)\n",
    "feh.append(header[\"FEH\"]) #cargamos la metalicidad"
   ]
  },
  {
   "cell_type": "code",
   "execution_count": 4,
   "metadata": {
    "collapsed": false
   },
   "outputs": [
    {
     "name": "stdout",
     "output_type": "stream",
     "text": [
      "[5286] [4.568] [-0.26]\n"
     ]
    }
   ],
   "source": [
    "print teff,logg,feh"
   ]
  },
  {
   "cell_type": "code",
   "execution_count": 5,
   "metadata": {
    "collapsed": true
   },
   "outputs": [],
   "source": [
    "#Para estrella 1\n",
    "import matplotlib.pyplot as plt\n",
    "import numpy\n",
    "\n",
    "\n",
    "def nan(t,f,err): #Eliminar NANS\n",
    "    tf=[]\n",
    "    ff=[]\n",
    "    errf=[]\n",
    "    for i in range(0,len(f)):\n",
    "        if numpy.isnan(f[i])==False:\n",
    "            tf.append(t[i])\n",
    "            ff.append(f[i])\n",
    "            errf.append(err[i])\n",
    "    return tf,ff,errf\n",
    "\n",
    "\n",
    "def unirt(listas): #Función simple para unir listas\n",
    "    final=[]\n",
    "    for lista in listas:\n",
    "        for dato in lista:\n",
    "            final.append(dato)\n",
    "    return final\n",
    "\n",
    "\n",
    "def unirf(listas): #Función que resta las medias de cada quarter y une listas\n",
    "    f=[]\n",
    "    for lista in listas:\n",
    "        mean=numpy.mean(lista)\n",
    "        for dato in lista:\n",
    "            f.append(dato-mean)\n",
    "    return f\n"
   ]
  },
  {
   "cell_type": "code",
   "execution_count": 6,
   "metadata": {
    "collapsed": true
   },
   "outputs": [],
   "source": [
    "#Primer objeto\n",
    "#Primero se remueven NANs\n",
    "tsinnan=[]\n",
    "fsinnan=[]\n",
    "errsinnan=[]\n",
    "for i in range(0,len(time1)):\n",
    "    ttemp,ftemp,ferrtemp=nan(time1[i],flux1[i],ferr1[i])\n",
    "    errsinnan.append(ferrtemp)\n",
    "    tsinnan.append(ttemp)\n",
    "    fsinnan.append(ftemp)   \n",
    "\n",
    "t1=unirt(tsinnan) #Unimos quarters de tiempo\n",
    "f1=np.array(unirf(fsinnan)) #unimos flujos normalizando\n",
    "ferr1=unirt(errsinnan) #unimos quarters de error del flujo "
   ]
  },
  {
   "cell_type": "code",
   "execution_count": 48,
   "metadata": {
    "collapsed": false
   },
   "outputs": [],
   "source": [
    "import scipy.signal as MF\n",
    "\n",
    "f1filt=MF.medfilt(f1,11)\n",
    "for i in range(0,50):\n",
    "    f1filt=MF.medfilt(f1filt1,11)\n",
    "\n",
    "\n",
    "\n",
    "#f1filt3=MF.medfilt(f1,11)"
   ]
  },
  {
   "cell_type": "code",
   "execution_count": 49,
   "metadata": {
    "collapsed": false
   },
   "outputs": [],
   "source": [
    "import matplotlib.pyplot as plt\n",
    "#Funciones de ploteo\n",
    "plt.rcParams['figure.figsize'] = (20, 5)\n",
    "plt.title(\"KIC 2305930\")\n",
    "plt.plot(f1filt,'r')\n",
    "plt.show()\n"
   ]
  },
  {
   "cell_type": "code",
   "execution_count": 52,
   "metadata": {
    "collapsed": true
   },
   "outputs": [],
   "source": [
    "from gatspy.periodic import LombScargleFast\n",
    "\n",
    "\n",
    "model = LombScargleFast().fit(t1,f1filt,ferr1)\n",
    "periods, power = model.periodogram_auto(nyquist_factor=5)\n",
    "\n"
   ]
  },
  {
   "cell_type": "code",
   "execution_count": 54,
   "metadata": {
    "collapsed": true
   },
   "outputs": [],
   "source": [
    "plt.rcParams['figure.figsize'] = (10, 5)\n",
    "plt.plot(periods, power,linewidth=3)\n",
    "plt.xlabel(\"days\")\n",
    "plt.xlim(0,80)\n",
    "plt.ylabel(\"Lomb-Scargle Power\")\n",
    "plt.show()"
   ]
  },
  {
   "cell_type": "code",
   "execution_count": null,
   "metadata": {
    "collapsed": true
   },
   "outputs": [],
   "source": []
  }
 ],
 "metadata": {
  "kernelspec": {
   "display_name": "Python 2",
   "language": "python",
   "name": "python2"
  },
  "language_info": {
   "codemirror_mode": {
    "name": "ipython",
    "version": 2
   },
   "file_extension": ".py",
   "mimetype": "text/x-python",
   "name": "python",
   "nbconvert_exporter": "python",
   "pygments_lexer": "ipython2",
   "version": "2.7.11"
  }
 },
 "nbformat": 4,
 "nbformat_minor": 0
}
