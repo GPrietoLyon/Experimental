{
 "cells": [
  {
   "cell_type": "markdown",
   "metadata": {},
   "source": [
    "1. Propiedades:\n",
    "\n",
    "NGC 121 es un cúmulo globular perteneciente a la pequeña nube de magallanes. \n",
    "Tiene una magnitud aparente de 11.24 y un radio de 54 pc. \n",
    "Sus coordenadas son RA: 00h26m48.25s, DEC: -71d32m08.4s.\n",
    "Su modulo de distancia (m-M)=18.94 y su distancia es de 0.061Mpc.\n",
    "\n",
    "Todos estos datos fueron obtenidos de los catalogos de Simbad y NED (https://goo.gl/q5GuSw)."
   ]
  },
  {
   "cell_type": "markdown",
   "metadata": {},
   "source": [
    "2.ACS (Advanced Camera for Surveys) es un instrumento del telescopio espacial Hubble capaz de observar entre UV y near-IR. HRC (High-Resolution Camera) es una de las 3 cámaras del instrumento.\n",
    "\n",
    "Los filtros F555W y F814W son de longitudes 5400 y 8000 Angstrom. Sus equivalente mas cercanos en el sistema de Johnson son V (5510A) y I (8060A) respectivamente.\n"
   ]
  },
  {
   "cell_type": "code",
   "execution_count": null,
   "metadata": {
    "collapsed": false
   },
   "outputs": [],
   "source": [
    "import numpy as np\n",
    "import matplotlib.pyplot as plt\n",
    "from astropy.io import ascii\n",
    "from astropy.io import fits\n",
    "\n",
    "f5 = fits.open('hst_10396_a4_acs_hrc_f555w_drz.fits')\n",
    "f8 = fits.open('hst_10396_a4_acs_hrc_f814w_drz.fits')"
   ]
  },
  {
   "cell_type": "markdown",
   "metadata": {},
   "source": [
    "Según la documentación de sitio Hubble Legacy Archives el segundo .fit pertenece a los pesos (inversos de la varianza). Luego será este el que se le entrega a SExtractor. \n",
    "\n",
    "Importante que los fits extraidos mantengan sus headers, ya que SExtractor usará estos luego para extraer las coordenadas de NGC 121 y así usando la escala pixel-arcsec darle una ubicación espacial real a cada estrella."
   ]
  },
  {
   "cell_type": "code",
   "execution_count": null,
   "metadata": {
    "collapsed": false
   },
   "outputs": [],
   "source": [
    "var = f5[2]\n",
    "var.writeto('innvar_f555w_N121.fits',clobber=True)\n",
    "var = f8[2]\n",
    "var.writeto('innvar_f814w_N121.fits',clobber=True)"
   ]
  },
  {
   "cell_type": "markdown",
   "metadata": {},
   "source": [
    "Ahora lo mismo pero con la imagen de ciencia (primera extension):"
   ]
  },
  {
   "cell_type": "code",
   "execution_count": null,
   "metadata": {
    "collapsed": false
   },
   "outputs": [],
   "source": [
    "sci = f5[1]\n",
    "sci.writeto('sci_f555w_N121.fits',clobber=True)\n",
    "sci = f8[1]\n",
    "sci.writeto('sci_f814w_N121.fits',clobber=True)"
   ]
  },
  {
   "cell_type": "markdown",
   "metadata": {},
   "source": [
    "Comparando las imagenes lado a lado se ve que estan alineadas, analizando estrellas en particular en cada filtro se ve que tienen la misma posición."
   ]
  },
  {
   "cell_type": "code",
   "execution_count": null,
   "metadata": {
    "collapsed": false
   },
   "outputs": [],
   "source": [
    "%matplotlib inline\n",
    "\n",
    "imgf555=fits.open(\"sci_f555w_N121.fits\")\n",
    "imgf814=fits.open(\"sci_f814w_N121.fits\")\n",
    "imgf5=imgf555[1].data\n",
    "imgf8=imgf814[1].data\n",
    "plt.imshow(np.log10(imgf5))\n"
   ]
  },
  {
   "cell_type": "code",
   "execution_count": null,
   "metadata": {
    "collapsed": false
   },
   "outputs": [],
   "source": [
    "plt.imshow(np.log10(imgf8))"
   ]
  },
  {
   "cell_type": "markdown",
   "metadata": {},
   "source": [
    "3\n",
    "Esta sección depende de los parametros de input (config.txt) y output (archivo .param) que estan explicados al final del notebook.\n",
    "\n",
    "Para medir fotometria de apertura de 6 pixeles se debe cambiar la opción de fotometría automática del archivo de outputs por la de fotometría de apertura, luego debemos dar los 6 pixeles de diametro en el input.\n",
    "\n",
    "Respecto a las coordenadas, SExtractor reconoce las coordenadas directamente del header que acompaña a cada imagen, por lo que es importante al extraer las extensiones que estas mantengan sus headers respectivos. Luego usando la conversion pixel a ángulo dada en el header (tomada automaticamente) se encuentran las coordenadas de los centroides de cada fuente, esto último se debe especificar en el archivo de output.\n",
    "\n",
    "Las varianzas inversas obtenidas anteriormente se utilizan como pesos. El archivo de configuración y parametros de output estan incluidos junto a este notebook con los nombres config.txt y config.param respectivamente.\n",
    "\n",
    "Si quiere correr SExtractor en su propio computador lo debe hacer desde las carpetas f555w y f814w que corresponden a las imagenes del mismo filtro."
   ]
  },
  {
   "cell_type": "markdown",
   "metadata": {
    "collapsed": true
   },
   "source": [
    "4.Formando 4 listas que contengan las RA y DEC de los cuerpos de ambos filtros para despues hacer un match, se encuentran cuales estrellas de F555W corresponden a cuales de F814W, también se obtiene la distancia angular entre los cuerpos que se consideraron como un match.\n"
   ]
  },
  {
   "cell_type": "code",
   "execution_count": 1,
   "metadata": {
    "collapsed": false,
    "scrolled": true
   },
   "outputs": [],
   "source": [
    "from astropy.coordinates import SkyCoord\n",
    "from astropy import units as u\n",
    "from astropy.io import ascii\n",
    "\n",
    "f5=ascii.read(\"f5.txt\")\n",
    "f8=ascii.read(\"f8.txt\")\n",
    "\n",
    "ra5=[]\n",
    "dec5=[]\n",
    "ra8=[]\n",
    "dec8=[]\n",
    "\n",
    "for i in f5:\n",
    "    ra5.append(i[5])\n",
    "    dec5.append(i[6])\n",
    "for i in f8:\n",
    "    ra8.append(i[5])\n",
    "    dec8.append(i[6])\n",
    "    \n",
    "\n",
    "c1 = SkyCoord(ra=ra5*u.degree, dec=dec5*u.degree)#f555w\n",
    "c2 = SkyCoord(ra=ra8*u.degree, dec=dec8*u.degree) #f814w\n",
    "match, dist, d3d = c2.match_to_catalog_sky(c1,nthneighbor=1) \n",
    "\n",
    "#for i in range(3090,3100):\n",
    "#    print c1[match[i]],c2[i]\n",
    "#    print dist[i]"
   ]
  },
  {
   "cell_type": "markdown",
   "metadata": {
    "collapsed": true
   },
   "source": [
    "Por ejemplo, se da un match entre estas dos estrellas de los distintos filtros, las cuales estan separadas por la distasncia entregada abajo.\n",
    "\n",
    "   SkyCoord (ICRS): (ra, dec) in deg\n",
    "    (6.6947746, -71.5404345) \n",
    "   SkyCoord (ICRS): (ra, dec) in deg\n",
    "    (6.6947839, -71.5404374)  \n",
    "    \n",
    "    \n",
    "    \n",
    "Distancia angular: 0d00m00.0149s"
   ]
  },
  {
   "cell_type": "markdown",
   "metadata": {},
   "source": [
    "El siguiente paso consiste en obtener las magnitudes para ambos filtros de cada estrella y generar una CMD a partir de ellas. Para esto es que se llevo a cabo el \"match\" anterior. \n",
    "\n",
    "Entonces, extrayendo las magnitudes de los catalogos de sextractor que generamos (f5.txt y f8.txt):\n"
   ]
  },
  {
   "cell_type": "markdown",
   "metadata": {},
   "source": [
    "Los reddening se obtienen del sitio sitado en la primera pregunta (NED - NGC121).\n",
    "\n",
    "Las correciones de apertura estan dadas en las tablas de Bohlin et al 2015 (http://www.stsci.edu/hst/acs/analysis/apcorr)"
   ]
  },
  {
   "cell_type": "code",
   "execution_count": 7,
   "metadata": {
    "collapsed": false
   },
   "outputs": [
    {
     "data": {
      "text/plain": [
       "[<matplotlib.lines.Line2D at 0x7f1c839a9d10>]"
      ]
     },
     "execution_count": 7,
     "metadata": {},
     "output_type": "execute_result"
    },
    {
     "data": {
      "image/png": "[encoded data removed]",
      "text/plain": [
       "<matplotlib.figure.Figure at 0x7f1c83a84ad0>"
      ]
     },
     "metadata": {},
     "output_type": "display_data"
    }
   ],
   "source": [
    "\n",
    "mag5=[]\n",
    "mag8=[]\n",
    "mag5inicial=[]\n",
    "\n",
    "for i in f5:\n",
    "    mag5inicial.append(i[3])\n",
    "for i in f8:\n",
    "    mag8.append(i[3]+24.849+0.056) #Agregamos zero point y reddening\n",
    "for i in match:\n",
    "    mag5.append(mag5inicial[i]+25.255+0.103) #Agregamos zero point y reddening\n",
    "\n",
    "\n",
    "#mag8 tiene las magnitudes de f814w\n",
    "#mag5 tiene las magnitudes de f555w\n",
    "\n",
    "import matplotlib.pyplot as plt\n",
    "import numpy as np\n",
    "%matplotlib inline\n",
    "\n",
    "plt.figure(figsize=(5,7))\n",
    "ax = plt.gca()\n",
    "ax.invert_yaxis()\n",
    "plt.xlim(-2,2)\n",
    "plt.title(\"CMD - NGC121\")\n",
    "plt.xlabel(\"$f_{555w}-f_{814w}$\")\n",
    "plt.ylabel(\"$f_{555w}$\")\n",
    "plt.plot(np.array(mag5) -np.array(mag8),np.array(mag5),\".\",color=\"blue\",alpha = 0.1)\n",
    "    \n",
    "    \n",
    "    "
   ]
  },
  {
   "cell_type": "markdown",
   "metadata": {},
   "source": [
    "Sobre los parametros de input:\n",
    "    \n",
    "    DETECT_MINAREA   6\n",
    "    \n",
    "La cantidad de pixeles que deben estar sobre el threshold para que un cuerpo se considere como estrella. \n",
    "Un número muy bajo hará que se detecten las estrellas más leves pero al mismo tiempo se considerará ruido como estrellas.  \n",
    "Un número muy alto hará que no se consideren como estrella cuerpos tenues que en realidad si lo son. \n",
    "    \n",
    "    \n",
    "    DETECT_THRESH    1.5 \n",
    "Este será el threshold que concidera DETECT_MINAREA, cualquier pixel sobre este sigma será considerado, pero para este caso se necesitan 6 pixeles juntos o más para que SExtractor lo tome como una detección de estrella. \n",
    "Al asignar un sigma un poco mayor a 1 se asegura que habrán detecciones que sobresalgan del background y que al mismo tiempo no se ignoren señales más debiles (lo que sucedería con un valor >>1).\n",
    "    \n",
    "    \n",
    "    \n",
    "    WEIGHT_TYPE      MAP_WEIGHT                               \n",
    "    WEIGHT_IMAGE     innvar_fxxxw_N121.fits (555 o 814)\n",
    "\n",
    "Los pesos le darán una importancia relativa a cada uno de los pixeles. En este caso se utiliza MAP_WEIGHT ya que obtuvimos los inversos de las varianzas (pesos) directamente de la segunda extensión del .fits como vimos previamente\n",
    "        \n",
    "    \n",
    "    PHOT_APERTURES   6\n",
    "Como fue pedido el diametro de apertura es de 6 pixeles.\n",
    "Importante notar que solo se usó con fotometría de apertura y no se debe usar la opción auto, ya que esta segunda asignará la elipse que SExtractor considere más apropiada para cada detección, con lo cual asignará elipses a grupos de estrellas entre otras cosas. PHOT_APERTURES solo trabaja con circulos y como los cuerpos estudiados son estrellas es esto lo que se quiere.\n",
    "    \n",
    "    MAG_ZEROPOINT    0\n",
    "SExtractor permite asignar un zeropoint dentro del mismo input, este se dejo como 0 inicialmente y despues simplemente se agrego en el codigo, para el sistema Vega MAG:\n",
    "\n",
    "ZPT F555w = 25.255\n",
    "\n",
    "ZPT F814w = 24.849\n",
    "\n",
    "Estos valores se obtienen de Sirianni et al 2005 y corresponden al sistema VEGAMAG, el cual esta definido por la magnitud de la estrella Vega en distintos filtros, es decir, $ M_{vega \\lambda}+Zpt_{\\lambda}=0 $.\n",
    "   \n",
    "    \n",
    "    GAIN             1.0\n",
    "\n",
    "Segun especifica el header las imagenes ya estarían en electrones, por lo que no se necesita transformar de ADU a electrón.\n",
    "    \n",
    "    GAIN_KEY         -  \n",
    "Se deja esto para que SExtractor no busque el gain dentro del header (ya que este si esta dado, pero por lo anterior no es necesario). \n",
    "    \n",
    "    PIXEL_SCALE      0 \n",
    "Esta es la transformación de pixel a escala angular, lo cual permite darle una ubicación espacial en RA/DEC a cada estrella encontrada. Al darle un valor de 0 SExtractor busca este valor directamente en el header.    \n",
    "        \n",
    "    CHECKIMAGE_TYPE  APERTURES \n",
    "    CHECKIMAGE_NAME  AP_Fx.fits \n",
    "\n",
    "Es posible pedirle al programa que entregue una imagen con los cuerpos encontrados y las aperturas (APERTURES) que se les dio, util para entender que esta sucediendo realmente. Dando otros parametros se pueden recibir imagenes que indican otras cosas.\n",
    "  \n",
    "Si se quiere revisar este .fits, se creara con el nombre AP_f(5 o 8).fits luego de correr SExtractor.\n",
    "  \n",
    "  \n",
    "  "
   ]
  },
  {
   "cell_type": "markdown",
   "metadata": {},
   "source": [
    "Respecto al output:\n",
    "\n",
    "    MAG_APER(1)\n",
    "Indicamos que nos devuelva las magnitudes dadas por la fotometría de apertura (circular). \n",
    "    \n",
    "    ALPHA_J2000\n",
    "Devuelve las asenciones rectas de cada estrella, suponiendo que hayamos configurado bien PIXEL_SCALE.\n",
    "    \n",
    "    \n",
    "    DELTA_J2000\n",
    "Devuelve las declinaciones de cada estrella.\n",
    "\n",
    "\n",
    "Entre otros outputs que resaltan estan, flujos, posiciones en pixeles, errores de flujo/magnitud y otros tipos de fotometría. Pero estos no son de suma importancia para obtener la CMD.\n",
    "    "
   ]
  },
  {
   "cell_type": "markdown",
   "metadata": {},
   "source": [
    "Respecto a las definiciones pedidas:\n",
    "\n",
    "Reddening: Es el efecto causado por la extinción de luz debido al material presente entre la fuente y el observador. \n",
    "Como el polvo interestelar absorbe principalmente ondas de alta frecuencia las estrellas que sufren de extinción se ven más \"rojizas\" por el observador que lo que son realmente.\n",
    "\n",
    "Zero-point: El zero-point usado en este trabajo (VegaMag) es un sistema definido por las magnitudes de vega, de tal modo que al sumarles este zero-point quedan en 0. También existe el zero-point instrumental, que indica la magnitud de una fuente que exitará un electrón por segundo de la CCD."
   ]
  }
 ],
 "metadata": {
  "kernelspec": {
   "display_name": "Python 2",
   "language": "python",
   "name": "python2"
  },
  "language_info": {
   "codemirror_mode": {
    "name": "ipython",
    "version": 2
   },
   "file_extension": ".py",
   "mimetype": "text/x-python",
   "name": "python",
   "nbconvert_exporter": "python",
   "pygments_lexer": "ipython2",
   "version": "2.7.11"
  }
 },
 "nbformat": 4,
 "nbformat_minor": 0
}
