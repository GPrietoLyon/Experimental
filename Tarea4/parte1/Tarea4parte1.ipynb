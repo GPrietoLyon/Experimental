{
 "cells": [
  {
   "cell_type": "markdown",
   "metadata": {},
   "source": [
    "# Tarea 4 parte 1\n"
   ]
  },
  {
   "cell_type": "markdown",
   "metadata": {},
   "source": [
    "1.\n",
    "   \n",
    "   El estudio de estrellas binarias es de gran importancia para comprobar los existentes modelos estelares. Ya que tenemos un sistema de dos cuerpos y es posible medir la orbita gracias al periodo obtenido del eclipse, luego se pueden deducir las masas en acción y radios."
   ]
  },
  {
   "cell_type": "markdown",
   "metadata": {},
   "source": [
    "2.\n",
    "\n",
    "El espectrografo es necesario para obtener las velocidades radiales. Esto se encuentra gracias al efecto de corrimiento al rojo en el espectro obtenido.\n",
    "\n"
   ]
  },
  {
   "cell_type": "markdown",
   "metadata": {},
   "source": [
    "3.\n",
    "\n",
    "Los datos fueron obtenidos de STEREO HI (Heliospheric Imagers) -1. \n",
    "\n",
    "os candidatos cumplen con los requisitos:\n",
    "\n",
    "$\\circ$ Estrella principal de alto brillo\n",
    "\n",
    "$\\circ$ Estrella acompañante de masa menor a 0.8 $M_\\circ$\n",
    "\n",
    "$\\circ$ Estrella acompañante de radio menor a 0.4 $R_\\circ$\n",
    "\n",
    "$\\circ$ Eclipse total\n",
    "\n",
    "$\\circ$ Baja contaminación de otras estrellas \n",
    "\n"
   ]
  },
  {
   "cell_type": "markdown",
   "metadata": {},
   "source": [
    "4."
   ]
  },
  {
   "cell_type": "code",
   "execution_count": 1,
   "metadata": {
    "collapsed": true
   },
   "outputs": [],
   "source": [
    "import ephem"
   ]
  },
  {
   "cell_type": "markdown",
   "metadata": {},
   "source": [
    "El primer paso será extraer las coordenadas RA y DEC dadas en Wraight et al 2012.\n",
    "\n",
    "Estas están en grados, luego es necesario transformarlas a hms y dms respectivamente, esto se puede hacer facilmente gracias a astropy.coordinates."
   ]
  },
  {
   "cell_type": "code",
   "execution_count": 2,
   "metadata": {
    "collapsed": true
   },
   "outputs": [],
   "source": [
    "#ID          RA           DEC      Mag\n",
    "#HD23765    57.1205       21.7975  9.53\n",
    "#HD287039   71.5819      12.7448  9.88\n",
    "#BD-07 3648 203.727    −8.44247  11.3\n",
    "#HD75767    133.068     8.06293  6.59\n",
    "\n",
    "#HD89849   155.541     6.21829   9.15\n",
    "#HD198044  312.091    -22.7407   7.2\n",
    "#HD205403  323.766    -3.7349    8.02\n",
    "#HD213597  338.136    1.58245   7.81\n",
    "#HD222891  356.162   -8.8487    8.07"
   ]
  },
  {
   "cell_type": "code",
   "execution_count": 3,
   "metadata": {
    "collapsed": false
   },
   "outputs": [
    {
     "name": "stderr",
     "output_type": "stream",
     "text": [
      "/home/zapredfield/anaconda/lib/python2.7/site-packages/IPython/kernel/__init__.py:13: ShimWarning: The `IPython.kernel` package has been deprecated. You should import from ipykernel or jupyter_client instead.\n",
      "  \"You should import from ipykernel or jupyter_client instead.\", ShimWarning)\n"
     ]
    }
   ],
   "source": [
    "from astropy import units as u\n",
    "from astropy.coordinates import SkyCoord"
   ]
  },
  {
   "cell_type": "code",
   "execution_count": 4,
   "metadata": {
    "collapsed": false
   },
   "outputs": [],
   "source": [
    "r=[57.1205,71.5819,203.727,133.068,155.541,312.091,323.766,338.136,356.162]#en grados\n",
    "d=[21.7975,12.7448,-8.44247,8.06293,6.21829,-22.7407,-3.7349, 1.58245,-8.8487]\n",
    "\n",
    "C=[]\n",
    "\n",
    "for i in range(9):\n",
    "    c = SkyCoord(ra=r[i]*u.degree, dec=d[i]*u.degree)\n",
    "    C.append(c)\n",
    "\n",
    "Ra=[]\n",
    "Dec=[]\n",
    "    \n",
    "for i in C:\n",
    "    Ra.append([i.ra.hms[0],i.ra.hms[1],i.ra.hms[2]])\n",
    "    Dec.append([i.dec.dms[0],i.dec.dms[1],i.dec.dms[2]])"
   ]
  },
  {
   "cell_type": "code",
   "execution_count": 5,
   "metadata": {
    "collapsed": false,
    "scrolled": false
   },
   "outputs": [
    {
     "name": "stdout",
     "output_type": "stream",
     "text": [
      "estrella 0\n",
      "[3.0, 48.0, 28.92000000000337]\n",
      "[21.0, 47.0, 50.999999999997954]\n",
      "estrella 1\n",
      "[4.0, 46.0, 19.656000000003644]\n",
      "[12.0, 44.0, 41.279999999998864]\n",
      "estrella 2\n",
      "[13.0, 34.0, 54.480000000010733]\n",
      "[-8.0, -26.0, -32.892000000000507]\n",
      "estrella 3\n",
      "[8.0, 52.0, 16.320000000006303]\n",
      "[8.0, 3.0, 46.54799999999895]\n",
      "estrella 4\n",
      "[10.0, 22.0, 9.8400000000086152]\n",
      "[6.0, 13.0, 5.8439999999987435]\n",
      "estrella 5\n",
      "[20.0, 48.0, 21.840000000011344]\n",
      "[-22.0, -44.0, -26.520000000001289]\n",
      "estrella 6\n",
      "[21.0, 35.0, 3.8400000000208934]\n",
      "[-3.0, -44.0, -5.6400000000004979]\n",
      "estrella 7\n",
      "[22.0, 32.0, 32.640000000015164]\n",
      "[1.0, 34.0, 56.819999999999737]\n",
      "estrella 8\n",
      "[23.0, 44.0, 38.880000000015116]\n",
      "[-8.0, -50.0, -55.319999999996838]\n"
     ]
    }
   ],
   "source": [
    "for i in range(9):\n",
    "    print \"estrella\",i\n",
    "    print Ra[i]\n",
    "    print Dec[i]"
   ]
  },
  {
   "cell_type": "markdown",
   "metadata": {},
   "source": [
    "Para operar pyephem y saber las fechas de observación se necesitan tanto las coordenadas de las estrellas a estudiar como las del lugar de observación."
   ]
  },
  {
   "cell_type": "markdown",
   "metadata": {},
   "source": [
    "Objetos:\n",
    "\n",
    "Entregamos un nombre, tipo de objeto, espectro, magnitud V, RA(hms) y Dec(dms), aunque realmente solo son necesarios estos dos ultimos."
   ]
  },
  {
   "cell_type": "code",
   "execution_count": 6,
   "metadata": {
    "collapsed": true
   },
   "outputs": [],
   "source": [
    "bin1 = ephem.readdb(\"HD23765,f|S|F8,3:48:28.92,21:47:51.0,9.53,2000\")\n",
    "\n",
    "bin2 = ephem.readdb(\"HD287039,f|S|F8,4:46:19.65,12:44:41.28,9.88,2000\")\n",
    "\n",
    "bin3 = ephem.readdb(\"BD-07,f|S|F8,13:34:54.48,-8:26:32.892,11.3,2000\")\n",
    "\n",
    "bin4 = ephem.readdb(\"HD75767,f|S|F8,8:52:16.32,8:3:46.548,9.88,2000\")\n",
    "\n",
    "bin5 = ephem.readdb(\"HD89849,f|S|F8,10:22:9.84,6:13:5.84,9.88,2000\")\n",
    "\n",
    "bin6 = ephem.readdb(\"HD198044,f|S|F8,20:48:21.84,-22:44:26.52,9.88,2000\")\n",
    "\n",
    "bin7 = ephem.readdb(\"HD205403,f|S|F8,21:35:3.84,-3:44:5.64,9.88,2000\")\n",
    "\n",
    "bin8 = ephem.readdb(\"HD213597,f|S|F8,22:32:32.64,1:34:56.81,9.88,2000\")\n",
    "\n",
    "bin9 = ephem.readdb(\"HD222891,f|S|F8,23:44:38.88,-8:50:55.31,9.88,2000\")"
   ]
  },
  {
   "cell_type": "markdown",
   "metadata": {},
   "source": [
    "Lugar: \n",
    "\n",
    "Se debe dar una latitud, longitud, elevación y fecha/hora. Se dan las coordenadas de Santiago y elevación del Observatorio UC de Santa Martina."
   ]
  },
  {
   "cell_type": "code",
   "execution_count": 7,
   "metadata": {
    "collapsed": true
   },
   "outputs": [],
   "source": [
    "gatech = ephem.Observer()\n",
    "gatech.lon ='-70.6693' \n",
    "gatech.lat ='-33.4489'\n",
    "gatech.elevation = 1450\n",
    "gatech.date = '2016/11/14 24:00' "
   ]
  },
  {
   "cell_type": "markdown",
   "metadata": {},
   "source": [
    "Pyephem nos entrega la posición de un objeto en coordenadas de azimut y altitud para una fecha dada. Es de especial interes la altitud, ya que debido al air mass y limitaciones del telescopio no se puede observar altitudes muy bajas.\n",
    "\n",
    "Luego iteramos el codigo para ver las altitudes entre las 8pm y 10pm del 2016/11/14."
   ]
  },
  {
   "cell_type": "code",
   "execution_count": 8,
   "metadata": {
    "collapsed": true
   },
   "outputs": [],
   "source": [
    "import numpy as np\n",
    "\n",
    "\n",
    "bin1.compute(gatech)\n",
    "\n",
    "\n",
    "lapso=4\n",
    "minutos=lapso*60\n",
    "\n",
    "\n",
    "alt1=[]\n",
    "t1=np.linspace(0,lapso,minutos)\n",
    "\n",
    "for i in range(minutos):\n",
    "    old_az, old_alt = bin1.az, bin1.alt\n",
    "    gatech.date += ephem.minute \n",
    "    bin1.compute(gatech)\n",
    "   # print(\"%s %s\" % (gatech.date, bin1.alt))\n",
    "    alt1.append(\"%s\" % (bin1.alt))\n",
    "\n",
    "alt2=[]\n",
    "alt3=[]\n",
    "alt4=[]\n",
    "alt5=[]\n",
    "alt6=[]\n",
    "alt7=[]\n",
    "alt8=[]\n",
    "alt9=[]\n",
    "\n",
    "bin2.compute(gatech)\n",
    "\n",
    "for i in range(minutos):\n",
    "    old_az, old_alt = bin2.az, bin2.alt\n",
    "    gatech.date += ephem.minute \n",
    "    bin2.compute(gatech)\n",
    "   # print(\"%s %s\" % (gatech.date, bin1.alt))\n",
    "    alt2.append(\"%s\" % (bin2.alt))\n",
    "    \n",
    "bin3.compute(gatech)    \n",
    "    \n",
    "for i in range(minutos):\n",
    "    old_az, old_alt = bin3.az, bin3.alt\n",
    "    gatech.date += ephem.minute \n",
    "    bin3.compute(gatech)\n",
    "   # print(\"%s %s\" % (gatech.date, bin1.alt))\n",
    "    alt3.append(\"%s\" % (bin3.alt))\n",
    "\n",
    "bin4.compute(gatech)    \n",
    "    \n",
    "for i in range(minutos):\n",
    "    old_az, old_alt = bin4.az, bin4.alt\n",
    "    gatech.date += ephem.minute \n",
    "    bin4.compute(gatech)\n",
    "   # print(\"%s %s\" % (gatech.date, bin1.alt))\n",
    "    alt4.append(\"%s\" % (bin4.alt))\n",
    "    \n",
    "    \n",
    "bin5.compute(gatech)    \n",
    "    \n",
    "for i in range(minutos):\n",
    "    old_az, old_alt = bin5.az, bin5.alt\n",
    "    gatech.date += ephem.minute \n",
    "    bin5.compute(gatech)\n",
    "   # print(\"%s %s\" % (gatech.date, bin1.alt))\n",
    "    alt5.append(\"%s\" % (bin5.alt))\n",
    "\n",
    "    \n",
    "bin6.compute(gatech)    \n",
    "    \n",
    "for i in range(minutos):\n",
    "    old_az, old_alt = bin6.az, bin6.alt\n",
    "    gatech.date += ephem.minute \n",
    "    bin6.compute(gatech)\n",
    "   # print(\"%s %s\" % (gatech.date, bin1.alt))\n",
    "    alt6.append(\"%s\" % (bin6.alt))\n",
    "    \n",
    "bin7.compute(gatech)    \n",
    "    \n",
    "for i in range(minutos):\n",
    "    old_az, old_alt = bin7.az, bin7.alt\n",
    "    gatech.date += ephem.minute \n",
    "    bin7.compute(gatech)\n",
    "   # print(\"%s %s\" % (gatech.date, bin1.alt))\n",
    "    alt7.append(\"%s\" % (bin7.alt))\n",
    "    \n",
    "bin8.compute(gatech)    \n",
    "    \n",
    "for i in range(minutos):\n",
    "    old_az, old_alt = bin8.az, bin8.alt\n",
    "    gatech.date += ephem.minute \n",
    "    bin8.compute(gatech)\n",
    "   # print(\"%s %s\" % (gatech.date, bin1.alt))\n",
    "    alt8.append(\"%s\" % (bin8.alt))\n",
    "    \n",
    "bin9.compute(gatech)    \n",
    "    \n",
    "for i in range(minutos):\n",
    "    old_az, old_alt = bin9.az, bin9.alt\n",
    "    gatech.date += ephem.minute \n",
    "    bin9.compute(gatech)\n",
    "   # print(\"%s %s\" % (gatech.date, bin1.alt))\n",
    "    alt9.append(\"%s\" % (bin9.alt))"
   ]
  },
  {
   "cell_type": "code",
   "execution_count": 9,
   "metadata": {
    "collapsed": true
   },
   "outputs": [],
   "source": [
    "def hms2h(hms):\n",
    "    h,m,s=hms.split(\":\")\n",
    "    if hms[0]==\"-\":\n",
    "        horas=float(h)-(float(m)/60)-(float(s)/3600)\n",
    "    else:\n",
    "        horas=float(h)+(float(m)/60)+(float(s)/3600)   \n",
    "    return horas\n",
    "    \n",
    "\n",
    "alturas1=[]\n",
    "\n",
    "for i in alt1:\n",
    "    alturas1.append(hms2h(i))\n",
    "    \n",
    "alturas2=[]\n",
    "\n",
    "for i in alt2:\n",
    "    alturas2.append(hms2h(i))\n",
    "\n",
    "alturas3=[]\n",
    "\n",
    "for i in alt3:\n",
    "    alturas3.append(hms2h(i))\n",
    "\n",
    "alturas4=[]\n",
    "\n",
    "for i in alt4:\n",
    "    alturas4.append(hms2h(i))\n",
    "    \n",
    "alturas5=[]\n",
    "\n",
    "for i in alt5:\n",
    "    alturas5.append(hms2h(i))\n",
    "    \n",
    "alturas6=[]\n",
    "\n",
    "for i in alt6:\n",
    "    alturas6.append(hms2h(i))\n",
    "    \n",
    "alturas7=[]\n",
    "\n",
    "for i in alt7:\n",
    "    alturas7.append(hms2h(i))\n",
    "    \n",
    "alturas8=[]\n",
    "\n",
    "for i in alt8:\n",
    "    alturas8.append(hms2h(i))\n",
    "    \n",
    "alturas9=[]\n",
    "\n",
    "for i in alt9:\n",
    "    alturas9.append(hms2h(i))"
   ]
  },
  {
   "cell_type": "code",
   "execution_count": 10,
   "metadata": {
    "collapsed": false
   },
   "outputs": [],
   "source": [
    "import matplotlib.pyplot as plt\n",
    "\n",
    "%matplotlib inline"
   ]
  },
  {
   "cell_type": "markdown",
   "metadata": {},
   "source": [
    "A continuación las alturas para los distintos objetos a partir de las 8pm (hora local):"
   ]
  },
  {
   "cell_type": "code",
   "execution_count": 11,
   "metadata": {
    "collapsed": false
   },
   "outputs": [
    {
     "data": {
      "image/png": "[encoded data removed]",
      "text/plain": [
       "<matplotlib.figure.Figure at 0x7f9368fc55d0>"
      ]
     },
     "metadata": {},
     "output_type": "display_data"
    },
    {
     "data": {
      "image/png": "[encoded data removed]",
      "text/plain": [
       "<matplotlib.figure.Figure at 0x7f936250bf50>"
      ]
     },
     "metadata": {},
     "output_type": "display_data"
    },
    {
     "data": {
      "image/png": "[encoded data removed]",
      "text/plain": [
       "<matplotlib.figure.Figure at 0x7f9362437f50>"
      ]
     },
     "metadata": {},
     "output_type": "display_data"
    },
    {
     "data": {
      "image/png": "[encoded data removed]",
      "text/plain": [
       "<matplotlib.figure.Figure at 0x7f9362386f10>"
      ]
     },
     "metadata": {},
     "output_type": "display_data"
    },
    {
     "data": {
      "image/png": "[encoded data removed]",
      "text/plain": [
       "<matplotlib.figure.Figure at 0x7f936251d7d0>"
      ]
     },
     "metadata": {},
     "output_type": "display_data"
    },
    {
     "data": {
      "image/png": "[encoded data removed]",
      "text/plain": [
       "<matplotlib.figure.Figure at 0x7f9362256550>"
      ]
     },
     "metadata": {},
     "output_type": "display_data"
    },
    {
     "data": {
      "image/png": "[encoded data removed]",
      "text/plain": [
       "<matplotlib.figure.Figure at 0x7f9362190c50>"
      ]
     },
     "metadata": {},
     "output_type": "display_data"
    },
    {
     "data": {
      "image/png": "[encoded data removed]",
      "text/plain": [
       "<matplotlib.figure.Figure at 0x7f936224be10>"
      ]
     },
     "metadata": {},
     "output_type": "display_data"
    },
    {
     "data": {
      "image/png": "[encoded data removed]",
      "text/plain": [
       "<matplotlib.figure.Figure at 0x7f936252a0d0>"
      ]
     },
     "metadata": {},
     "output_type": "display_data"
    }
   ],
   "source": [
    "plt.plot(t1,alturas1,\".\")\n",
    "plt.title(\"HD23765\")\n",
    "plt.xlabel(\"Tiempo a partir de las 8pm\")\n",
    "plt.ylabel(\"Altitud\")\n",
    "plt.show()\n",
    "\n",
    "\n",
    "plt.plot(t1,alturas2,\".\")\n",
    "plt.title(\"HD287039\")\n",
    "plt.xlabel(\"Tiempo a partir de las 8pm\")\n",
    "plt.ylabel(\"Altitud\")\n",
    "plt.show()\n",
    "\n",
    "plt.plot(t1,alturas3,\".\")\n",
    "plt.title(\"BD-07\")\n",
    "plt.xlabel(\"Tiempo a partir de las 8pm\")\n",
    "plt.ylabel(\"Altitud\")\n",
    "plt.show()\n",
    "\n",
    "plt.plot(t1,alturas4,\".\")\n",
    "plt.title(\"HD75767\")\n",
    "plt.xlabel(\"Tiempo a partir de las 8pm\")\n",
    "plt.ylabel(\"Altitud\")\n",
    "plt.show()\n",
    "\n",
    "plt.plot(t1,alturas5,\".\")\n",
    "plt.title(\"HD89849 \")\n",
    "plt.xlabel(\"Tiempo a partir de las 8pm\")\n",
    "plt.ylabel(\"Altitud\")\n",
    "plt.show()\n",
    "\n",
    "plt.plot(t1,alturas6,\".\")\n",
    "plt.title(\"HD198044\")\n",
    "plt.xlabel(\"Tiempo a partir de las 8pm\")\n",
    "plt.ylabel(\"Altitud\")\n",
    "plt.show()\n",
    "\n",
    "plt.plot(t1,alturas7,\".\")\n",
    "plt.title(\"HD205403\")\n",
    "plt.xlabel(\"Tiempo a partir de las 8pm\")\n",
    "plt.ylabel(\"Altitud\")\n",
    "plt.show()\n",
    "\n",
    "plt.plot(t1,alturas8,\".\")\n",
    "plt.title(\"HD213597\")\n",
    "plt.xlabel(\"Tiempo a partir de las 8pm\")\n",
    "plt.ylabel(\"Altitud\")\n",
    "plt.show()\n",
    "\n",
    "plt.plot(t1,alturas9,\".\")\n",
    "plt.title(\"HD222891\")\n",
    "plt.xlabel(\"Tiempo a partir de las 8pm\")\n",
    "plt.ylabel(\"Altitud\")\n",
    "plt.show()"
   ]
  },
  {
   "cell_type": "markdown",
   "metadata": {},
   "source": [
    "Con esto, los mejores candidatos parecen ser HD198044, HD205403 y HD 287039"
   ]
  },
  {
   "cell_type": "markdown",
   "metadata": {
    "collapsed": true
   },
   "source": [
    "5.\n",
    "\n",
    "Las funciones usadas en esta parte para transformaciones MJD-JD-date fueron tomadas de:\n",
    "\n",
    "https://gist.github.com/jiffyclub/1294443"
   ]
  },
  {
   "cell_type": "markdown",
   "metadata": {},
   "source": [
    "En Wraight et al 2012 se da la fecha de primer transito observado (MJD) y el periodo de dicho transito."
   ]
  },
  {
   "cell_type": "code",
   "execution_count": 12,
   "metadata": {
    "collapsed": false,
    "scrolled": false
   },
   "outputs": [],
   "source": [
    "import jdutil as jdut\n",
    "import math\n",
    "import datetime as dt"
   ]
  },
  {
   "cell_type": "markdown",
   "metadata": {},
   "source": [
    "Trasnformamos de MJD a fechas Y/M/D."
   ]
  },
  {
   "cell_type": "code",
   "execution_count": 22,
   "metadata": {
    "collapsed": false,
    "scrolled": false
   },
   "outputs": [
    {
     "name": "stdout",
     "output_type": "stream",
     "text": [
      "(2007, 12, 16.509488999843597)\n",
      "(2007, 4, 23.264018999878317)\n",
      "(2007, 5, 4.548593000043184)\n",
      "(2007, 7, 24.226100999861956)\n",
      "(2007, 9, 10.170535999815911)\n",
      "(2007, 7, 4.947480999864638)\n",
      "(2007, 1, 23.63481799978763)\n",
      "(2007, 2, 7.602903000079095)\n",
      "(2007, 2, 19.65043399995193)\n"
     ]
    }
   ],
   "source": [
    "mjd=[54450.509489,54213.264019,54224.548593,54305.226101,54353.170536,54285.947481,54123.634818,54138.602903,54150.650434]\n",
    "p=[5.15195,1.6865,2.2111,3.0781,2.5265,10.2478,2.4449,2.4238,1.594]\n",
    "jd=[]\n",
    "day=[]\n",
    "for i in range(len(mjd)):\n",
    "    jd.append(jdut.mjd_to_jd(mjd[i]))\n",
    "    day.append(jdut.jd_to_date(jd[i]))\n",
    "    \n",
    "for i in day:\n",
    "    print i"
   ]
  },
  {
   "cell_type": "markdown",
   "metadata": {},
   "source": [
    "Será util también la relación entre la fecha de hoy 2016/11/4  y su fecha MJD."
   ]
  },
  {
   "cell_type": "code",
   "execution_count": 27,
   "metadata": {
    "collapsed": false
   },
   "outputs": [
    {
     "name": "stdout",
     "output_type": "stream",
     "text": [
      "2016/11/4 = 57696.0\n"
     ]
    }
   ],
   "source": [
    "#fecha actual\n",
    "\n",
    "actual=jdut.jd_to_mjd(jdut.date_to_jd(2016,11,4))\n",
    "print \"2016/11/4 = \"+str(actual)"
   ]
  },
  {
   "cell_type": "markdown",
   "metadata": {},
   "source": [
    "Luego obtenemos la fecha del primer transito luego de la fecha de la fecha actual."
   ]
  },
  {
   "cell_type": "code",
   "execution_count": 28,
   "metadata": {
    "collapsed": false,
    "scrolled": true
   },
   "outputs": [
    {
     "name": "stdout",
     "output_type": "stream",
     "text": [
      "57696.237989\n",
      "57697.573019\n",
      "57698.186693\n",
      "57697.292301\n",
      "57698.256536\n",
      "57698.464881\n",
      "57698.078618\n",
      "57696.741303\n",
      "57697.300434\n"
     ]
    }
   ],
   "source": [
    "inicio=[]\n",
    "for j in range(len(mjd)):\n",
    "    s=mjd[j]\n",
    "    pe=p[j]\n",
    "    h=0\n",
    "    for i in range(10000):\n",
    "        s=s+pe\n",
    "        if s>=57696 and h==0:\n",
    "            inicio.append(s)\n",
    "            h=h+1\n",
    "            \n",
    "for i in inicio:\n",
    "    print i"
   ]
  },
  {
   "cell_type": "markdown",
   "metadata": {},
   "source": [
    "Ahora a partir de estas fechas de primer transito ajustamos una función sinusoidal con periodo igual al dado por Wraight et al 2012."
   ]
  },
  {
   "cell_type": "code",
   "execution_count": 16,
   "metadata": {
    "collapsed": false
   },
   "outputs": [
    {
     "data": {
      "image/png": "[encoded data removed]",
      "text/plain": [
       "<matplotlib.figure.Figure at 0x7f93621976d0>"
      ]
     },
     "metadata": {},
     "output_type": "display_data"
    }
   ],
   "source": [
    "import math as mt\n",
    "\n",
    "def sin(x,p):\n",
    "    pi=mt.pi\n",
    "    k=(2*pi)/p\n",
    "    y=mt.sin(k*x)\n",
    "    return y\n",
    "\n",
    "x=np.linspace(0,21,1000)\n",
    "\n",
    "\n",
    "y=[]\n",
    "for i in x:\n",
    "    y.append(sin(i,p[0]))\n",
    "\n",
    "plt.plot(x,y,\"-\")\n",
    "plt.title(\"Eclipses a partir de MJD \"+str(inicio[0])+\" para HD198044\")\n",
    "plt.xlabel(\"dias\")\n",
    "plt.show()"
   ]
  },
  {
   "cell_type": "markdown",
   "metadata": {},
   "source": [
    "El ejemplo de arriba es de HD198044. La idea para obtener las fechas de cuadratura entonces es obtener los maximos y minimos de la funcion sinusoidal, estos son los puntos donde se producen las maximas velocidades radiales.\n",
    "\n",
    "Los maximos se darán en sin(x=multiplo impar del periodo/4"
   ]
  },
  {
   "cell_type": "code",
   "execution_count": 17,
   "metadata": {
    "collapsed": false
   },
   "outputs": [],
   "source": [
    "cuadraturas=[]\n",
    "\n",
    "for i in range(len(mjd)):\n",
    "    cuantos=mt.ceil((21/p[i])*2)\n",
    "    ini=inicio[i]\n",
    "    lista=[]\n",
    "    for j in range(1,int(cuantos)):\n",
    "        cuadr=ini+p[i]*(2*j-1)/4\n",
    "        lista.append(cuadr)\n",
    "    cuadraturas.append(lista)"
   ]
  },
  {
   "cell_type": "markdown",
   "metadata": {},
   "source": [
    "Las fechas de cuadratura luego son:"
   ]
  },
  {
   "cell_type": "code",
   "execution_count": 18,
   "metadata": {
    "collapsed": false
   },
   "outputs": [],
   "source": [
    "import jdutil as jdut\n",
    "\n",
    "fechas=[]\n",
    "for i in cuadraturas:\n",
    "    lista=[]\n",
    "    for j in i:\n",
    "        lista.append(jdut.jd_to_datetime(jdut.mjd_to_jd(j)))\n",
    "    fechas.append(lista)"
   ]
  },
  {
   "cell_type": "code",
   "execution_count": 19,
   "metadata": {
    "collapsed": false,
    "scrolled": true
   },
   "outputs": [
    {
     "name": "stdout",
     "output_type": "stream",
     "text": [
      "HD198044\n",
      "2016-11-05 12:37:24.369560\n",
      "2016-11-08 02:26:48.609554\n",
      "2016-11-10 16:16:12.849588\n",
      "2016-11-13 06:05:37.089582\n",
      "2016-11-15 19:55:01.329575\n",
      "2016-11-18 09:44:25.569569\n",
      "2016-11-20 23:33:49.809563\n",
      "2016-11-23 13:23:14.049557\n",
      "HD23765\n",
      "2016-11-05 23:52:17.242220\n",
      "2016-11-06 20:06:34.042213\n",
      "2016-11-07 16:20:50.842206\n",
      "2016-11-08 12:35:07.642199\n",
      "2016-11-09 08:49:24.442232\n",
      "2016-11-10 05:03:41.242225\n",
      "2016-11-11 01:17:58.042218\n",
      "2016-11-11 21:32:14.842211\n",
      "2016-11-12 17:46:31.642204\n",
      "2016-11-13 14:00:48.442197\n",
      "2016-11-14 10:15:05.242230\n",
      "2016-11-15 06:29:22.042223\n",
      "2016-11-16 02:43:38.842216\n",
      "2016-11-16 22:57:55.642209\n",
      "2016-11-17 19:12:12.442202\n",
      "2016-11-18 15:26:29.242195\n",
      "2016-11-19 11:40:46.042228\n",
      "2016-11-20 07:55:02.842221\n",
      "2016-11-21 04:09:19.642214\n",
      "2016-11-22 00:23:36.442207\n",
      "2016-11-22 20:37:53.242199\n",
      "2016-11-23 16:52:10.042233\n",
      "2016-11-24 13:06:26.842225\n",
      "2016-11-25 09:20:43.642218\n",
      "HD287039\n",
      "2016-11-06 17:44:50.035272\n",
      "2016-11-07 20:16:49.555270\n",
      "2016-11-08 22:48:49.075268\n",
      "2016-11-10 01:20:48.595266\n",
      "2016-11-11 03:52:48.115264\n",
      "2016-11-12 06:24:47.635262\n",
      "2016-11-13 08:56:47.155260\n",
      "2016-11-14 11:28:46.675259\n",
      "2016-11-15 14:00:46.195257\n",
      "2016-11-16 16:32:45.715255\n",
      "2016-11-17 19:04:45.235253\n",
      "2016-11-18 21:36:44.755251\n",
      "2016-11-20 00:08:44.275249\n",
      "2016-11-21 02:40:43.795247\n",
      "2016-11-22 05:12:43.315246\n",
      "2016-11-23 07:44:42.835244\n",
      "2016-11-24 10:16:42.355242\n",
      "2016-11-25 12:48:41.875280\n",
      "HD89849\n",
      "2016-11-06 01:29:01.766278\n",
      "2016-11-07 14:25:15.686300\n",
      "2016-11-09 03:21:29.606282\n",
      "2016-11-10 16:17:43.526304\n",
      "2016-11-12 05:13:57.446286\n",
      "2016-11-13 18:10:11.366268\n",
      "2016-11-15 07:06:25.286289\n",
      "2016-11-16 20:02:39.206271\n",
      "2016-11-18 08:58:53.126293\n",
      "2016-11-19 21:55:07.046275\n",
      "2016-11-21 10:51:20.966297\n",
      "2016-11-22 23:47:34.886279\n",
      "2016-11-24 12:43:48.806300\n",
      "BD073648\n",
      "2016-11-06 21:18:57.110388\n",
      "2016-11-08 03:38:01.910375\n",
      "2016-11-09 09:57:06.710401\n",
      "2016-11-10 16:16:11.510388\n",
      "2016-11-11 22:35:16.310374\n",
      "2016-11-13 04:54:21.110401\n",
      "2016-11-14 11:13:25.910388\n",
      "2016-11-15 17:32:30.710374\n",
      "2016-11-16 23:51:35.510401\n",
      "2016-11-18 06:10:40.310387\n",
      "2016-11-19 12:29:45.110374\n",
      "2016-11-20 18:48:49.910401\n",
      "2016-11-22 01:07:54.710387\n",
      "2016-11-23 07:26:59.510373\n",
      "2016-11-24 13:46:04.310400\n",
      "2016-11-25 20:05:09.110387\n",
      "HD75767\n",
      "2016-11-09 00:38:38.198329\n",
      "2016-11-14 03:37:03.158330\n",
      "2016-11-19 06:35:28.118330\n",
      "2016-11-24 09:33:53.078331\n",
      "HD205403\n",
      "2016-11-06 16:33:22.435474\n",
      "2016-11-07 21:53:42.115494\n",
      "2016-11-09 03:14:01.795474\n",
      "2016-11-10 08:34:21.475495\n",
      "2016-11-11 13:54:41.155474\n",
      "2016-11-12 19:15:00.835495\n",
      "2016-11-14 00:35:20.515475\n",
      "2016-11-15 05:55:40.195495\n",
      "2016-11-16 11:15:59.875475\n",
      "2016-11-17 16:36:19.555495\n",
      "2016-11-18 21:56:39.235475\n",
      "2016-11-20 03:16:58.915495\n",
      "2016-11-21 08:37:18.595475\n",
      "2016-11-22 13:57:38.275495\n",
      "2016-11-23 19:17:57.955475\n",
      "2016-11-25 00:38:17.635496\n",
      "2016-11-26 05:58:37.315476\n",
      "HD213597\n",
      "2016-11-05 08:20:02.658789\n",
      "2016-11-06 13:25:10.818788\n",
      "2016-11-07 18:30:18.978788\n",
      "2016-11-08 23:35:27.138788\n",
      "2016-11-10 04:40:35.298787\n",
      "2016-11-11 09:45:43.458787\n",
      "2016-11-12 14:50:51.618786\n",
      "2016-11-13 19:55:59.778786\n",
      "2016-11-15 01:01:07.938785\n",
      "2016-11-16 06:06:16.098785\n",
      "2016-11-17 11:11:24.258784\n",
      "2016-11-18 16:16:32.418784\n",
      "2016-11-19 21:21:40.578783\n",
      "2016-11-21 02:26:48.738783\n",
      "2016-11-22 07:31:56.898783\n",
      "2016-11-23 12:37:05.058782\n",
      "2016-11-24 17:42:13.218782\n",
      "HD222891\n",
      "2016-11-05 16:46:27.897076\n",
      "2016-11-06 11:54:08.697098\n",
      "2016-11-07 07:01:49.497079\n",
      "2016-11-08 02:09:30.297101\n",
      "2016-11-08 21:17:11.097083\n",
      "2016-11-09 16:24:51.897105\n",
      "2016-11-10 11:32:32.697086\n",
      "2016-11-11 06:40:13.497068\n",
      "2016-11-12 01:47:54.297090\n",
      "2016-11-12 20:55:35.097072\n",
      "2016-11-13 16:03:15.897093\n",
      "2016-11-14 11:10:56.697075\n",
      "2016-11-15 06:18:37.497097\n",
      "2016-11-16 01:26:18.297079\n",
      "2016-11-16 20:33:59.097100\n",
      "2016-11-17 15:41:39.897082\n",
      "2016-11-18 10:49:20.697104\n",
      "2016-11-19 05:57:01.497086\n",
      "2016-11-20 01:04:42.297067\n",
      "2016-11-20 20:12:23.097089\n",
      "2016-11-21 15:20:03.897071\n",
      "2016-11-22 10:27:44.697093\n",
      "2016-11-23 05:35:25.497074\n",
      "2016-11-24 00:43:06.297096\n",
      "2016-11-24 19:50:47.097078\n",
      "2016-11-25 14:58:27.897100\n"
     ]
    }
   ],
   "source": [
    "names=[\"HD198044\",\"HD23765\",\"HD287039\",\"HD89849\",\"BD073648\",\"HD75767\",\"HD205403\",\"HD213597\",\"HD222891\"]\n",
    "u=0\n",
    "for i in fechas:\n",
    "    print names[u]\n",
    "    u=u+1\n",
    "    for j in i:\n",
    "        print j"
   ]
  },
  {
   "cell_type": "markdown",
   "metadata": {},
   "source": [
    "Las estrellas que se observaran son HD198044 y HD205403 debido a sus alturas vistas antes\n",
    "\n",
    "HD198044\n",
    "\n",
    "2016-11-05 12:37:24\n",
    "\n",
    "2016-11-08 02:26:48\n",
    "\n",
    "2016-11-10 16:16:12\n",
    "\n",
    "2016-11-13 06:05:37\n",
    "\n",
    "2016-11-15 19:55:01\n",
    "\n",
    "2016-11-18 09:44:25\n",
    "\n",
    "2016-11-20 23:33:49\n",
    "\n",
    "2016-11-23 13:23:14\n",
    "\n",
    "HD205403\n",
    "\n",
    "2016-11-06 16:33:22\n",
    "\n",
    "2016-11-07 21:53:42\n",
    "\n",
    "2016-11-09 03:14:01\n",
    "\n",
    "2016-11-10 08:34:21\n",
    "\n",
    "2016-11-11 13:54:41\n",
    "\n",
    "2016-11-12 19:15:00\n",
    "\n",
    "2016-11-14 00:35:20\n",
    "\n",
    "2016-11-15 05:55:40\n",
    "\n",
    "2016-11-16 11:15:59\n",
    "\n",
    "2016-11-17 16:36:19\n",
    "\n",
    "2016-11-18 21:56:39\n",
    "\n",
    "2016-11-20 03:16:58\n",
    "\n",
    "2016-11-21 08:37:18\n",
    "\n",
    "2016-11-22 13:57:38\n",
    "\n",
    "2016-11-23 19:17:57\n",
    "\n",
    "2016-11-25 00:38:17\n",
    "\n",
    "2016-11-26 05:58:37\n"
   ]
  },
  {
   "cell_type": "markdown",
   "metadata": {},
   "source": [
    "7."
   ]
  },
  {
   "cell_type": "markdown",
   "metadata": {},
   "source": [
    "Se nos dice que para un cuerpo de magnitud V=3.5, para obtener precisión p=10m/s se requieren 300s de exposición.\n",
    "\n",
    "Es importante notar que una mayor S/N generará una mejor precisión y como a mayor valor de \"p\" la precisión es peor, luego S/N es inversamente proporcional a p.\n",
    "\n",
    "$$\\large \\frac{S}{N} \\quad  \\alpha \\quad p^{-1}$$\n",
    "\n",
    "\n",
    "Para este tipo de observaciones la señal esta dada por:\n",
    "\n",
    "$$ \\large S=A\\cdot t\\cdot 10^{-0.4\\cdot V} $$\n",
    "\n",
    "Donde A es una cosntante, t tiempo de exposición y V magnitud.\n",
    "\n",
    "Siendo que la distribución de las detecciones es de Poisson:\n",
    "\n",
    "$$N=\\sqrt{S} $$\n",
    "\n",
    "$$\\frac{S}{N} = \\sqrt{S} = \\sqrt{A\\cdot t} \\cdot 10^{-0.2\\cdot V}  $$"
   ]
  },
  {
   "cell_type": "markdown",
   "metadata": {},
   "source": [
    "Partamos en el caso que tenemos una magnitud V y queremos saber el tiempo de exposición necesario para obtener una precisión de 10m/s. Luego como S/N es proporcional a p es posible plantear la relación entre el caso conocido para p=10m/s y el que queremos estudiar.\n",
    "\n",
    "$$ \\sqrt{A\\cdot t_1} \\cdot 10^{-0.2\\cdot V_1} = \\sqrt{A\\cdot t_2} \\cdot 10^{-0.2\\cdot V}  $$\n",
    "\n",
    "$t_1=300s$ y $V_1=3.5$\n",
    "\n",
    "Despejando $t_2$, tiempo que nos interesará:\n",
    "\n",
    "$$ \\large t_2=10^{0.4(V_2-3.5)} \\cdot 300 $$"
   ]
  },
  {
   "cell_type": "markdown",
   "metadata": {},
   "source": [
    "Con esto tenemos el tiempo para obtener p=10m/s, pero realmente queremos para p=100m/s, luego veamos la relación entre tiempo y precisión.\n",
    "\n",
    "Como vimos antes $\\frac{S}{N} \\alpha  p^{-1}$, por lo tanto $\\large \\frac{S}{N} \\quad  \\alpha \\quad \\sqrt{t}^{-1}$.\n",
    "\n",
    "Luego si decimos que A->10 m/s y B->100m/s, solo quedará:\n",
    "\n",
    "$$ \\frac{p_A}{p_B}=\\frac{t_A^{-0.5}}{t_B^{-0.5}}  $$\n",
    "\n",
    "$p_A=10m/S$, $p_B=100m/s$ y $t_A=t_2$ obtenido previamente. Despejando, el tiempo para p=100m/s estará dado por:\n",
    "\n",
    "$$\\large t_B=10^{-2}t_2  $$\n"
   ]
  },
  {
   "cell_type": "code",
   "execution_count": 20,
   "metadata": {
    "collapsed": false
   },
   "outputs": [],
   "source": [
    "V=[7.2,9.53,9.88,9.15,11.3,6.59,8.02,7.81,8.07]\n",
    "t2=[]\n",
    "for v in V:\n",
    "    temp=(10**(0.4*(v-3.5)))*300\n",
    "    t2.append(temp)\n",
    "    temp\n",
    "tB=[]\n",
    "\n",
    "for t in t2:\n",
    "    temp=(10**(-2))*t\n",
    "    tB.append(temp)"
   ]
  },
  {
   "cell_type": "code",
   "execution_count": 21,
   "metadata": {
    "collapsed": false
   },
   "outputs": [
    {
     "name": "stdout",
     "output_type": "stream",
     "text": [
      "HD198044: Tiempo de exposición: 90.5985516121s\n",
      "HD23765: Tiempo de exposición: 774.67805719s\n",
      "HD287039: Tiempo de exposición: 1069.35340028s\n",
      "HD89849: Tiempo de exposición: 545.910257583s\n",
      "BD073648: Tiempo de exposición: 3954.77021567s\n",
      "HD75767: Tiempo de exposición: 51.6560572496s\n",
      "HD205403: Tiempo de exposición: 192.806315195s\n",
      "HD213597: Tiempo de exposición: 158.899033167s\n",
      "HD222891: Tiempo de exposición: 201.892996885s\n"
     ]
    }
   ],
   "source": [
    "for i in range(len(tB)):\n",
    "    print str(names[i])+\": Tiempo de exposición: \"+str(tB[i])+\"s\""
   ]
  }
 ],
 "metadata": {
  "kernelspec": {
   "display_name": "Python 2",
   "language": "python",
   "name": "python2"
  },
  "language_info": {
   "codemirror_mode": {
    "name": "ipython",
    "version": 2
   },
   "file_extension": ".py",
   "mimetype": "text/x-python",
   "name": "python",
   "nbconvert_exporter": "python",
   "pygments_lexer": "ipython2",
   "version": "2.7.11"
  }
 },
 "nbformat": 4,
 "nbformat_minor": 0
}
